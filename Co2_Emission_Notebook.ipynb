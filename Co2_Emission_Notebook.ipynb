{
 "cells": [
  {
   "cell_type": "markdown",
   "metadata": {},
   "source": [
    "#### Import Libraries"
   ]
  },
  {
   "cell_type": "code",
   "execution_count": 71,
   "metadata": {},
   "outputs": [],
   "source": [
    "import pandas as pd\n",
    "import numpy as np\n",
    "import matplotlib.pyplot as plt\n",
    "import seaborn as sns\n",
    "from sklearn.metrics import confusion_matrix, classification_report,accuracy_score\n",
    "from sklearn.metrics import mean_absolute_error, mean_squared_error, r2_score\n",
    "from sklearn.model_selection import learning_curve\n",
    "from sklearn.model_selection import cross_val_score\n",
    "from sklearn.ensemble import RandomForestRegressor, ExtraTreesRegressor, GradientBoostingRegressor, AdaBoostRegressor\n",
    "from sklearn.tree import DecisionTreeRegressor\n",
    "from sklearn.svm import SVR\n",
    "from sklearn.neighbors import KNeighborsRegressor\n",
    "from sklearn.linear_model import LinearRegression, Ridge, Lasso, ElasticNet\n",
    "from sklearn.neural_network import MLPRegressor\n",
    "from sklearn.gaussian_process import GaussianProcessRegressor\n",
    "from xgboost import XGBRegressor\n",
    "from lightgbm import LGBMRegressor\n",
    "from catboost import CatBoostRegressor\n",
    "from sklearn.impute import SimpleImputer\n",
    "from sklearn.preprocessing import OneHotEncoder\n",
    "from sklearn.preprocessing import StandardScaler\n",
    "from sklearn.pipeline import Pipeline\n",
    "from sklearn.compose import ColumnTransformer\n",
    "from sklearn.preprocessing import LabelEncoder\n",
    "from sklearn.model_selection import train_test_split"
   ]
  },
  {
   "cell_type": "markdown",
   "metadata": {},
   "source": [
    "#### Train Data CSV -> Dataframe"
   ]
  },
  {
   "cell_type": "code",
   "execution_count": 2,
   "metadata": {},
   "outputs": [
    {
     "data": {
      "text/html": [
       "<div>\n",
       "<style scoped>\n",
       "    .dataframe tbody tr th:only-of-type {\n",
       "        vertical-align: middle;\n",
       "    }\n",
       "\n",
       "    .dataframe tbody tr th {\n",
       "        vertical-align: top;\n",
       "    }\n",
       "\n",
       "    .dataframe thead th {\n",
       "        text-align: right;\n",
       "    }\n",
       "</style>\n",
       "<table border=\"1\" class=\"dataframe\">\n",
       "  <thead>\n",
       "    <tr style=\"text-align: right;\">\n",
       "      <th></th>\n",
       "      <th>Id</th>\n",
       "      <th>MSSubClass</th>\n",
       "      <th>MSZoning</th>\n",
       "      <th>LotFrontage</th>\n",
       "      <th>LotArea</th>\n",
       "      <th>Street</th>\n",
       "      <th>Alley</th>\n",
       "      <th>LotShape</th>\n",
       "      <th>LandContour</th>\n",
       "      <th>Utilities</th>\n",
       "      <th>...</th>\n",
       "      <th>PoolArea</th>\n",
       "      <th>PoolQC</th>\n",
       "      <th>Fence</th>\n",
       "      <th>MiscFeature</th>\n",
       "      <th>MiscVal</th>\n",
       "      <th>MoSold</th>\n",
       "      <th>YrSold</th>\n",
       "      <th>SaleType</th>\n",
       "      <th>SaleCondition</th>\n",
       "      <th>SalePrice</th>\n",
       "    </tr>\n",
       "  </thead>\n",
       "  <tbody>\n",
       "    <tr>\n",
       "      <th>0</th>\n",
       "      <td>1</td>\n",
       "      <td>60</td>\n",
       "      <td>RL</td>\n",
       "      <td>65.0</td>\n",
       "      <td>8450</td>\n",
       "      <td>Pave</td>\n",
       "      <td>NaN</td>\n",
       "      <td>Reg</td>\n",
       "      <td>Lvl</td>\n",
       "      <td>AllPub</td>\n",
       "      <td>...</td>\n",
       "      <td>0</td>\n",
       "      <td>NaN</td>\n",
       "      <td>NaN</td>\n",
       "      <td>NaN</td>\n",
       "      <td>0</td>\n",
       "      <td>2</td>\n",
       "      <td>2008</td>\n",
       "      <td>WD</td>\n",
       "      <td>Normal</td>\n",
       "      <td>208500</td>\n",
       "    </tr>\n",
       "    <tr>\n",
       "      <th>1</th>\n",
       "      <td>2</td>\n",
       "      <td>20</td>\n",
       "      <td>RL</td>\n",
       "      <td>80.0</td>\n",
       "      <td>9600</td>\n",
       "      <td>Pave</td>\n",
       "      <td>NaN</td>\n",
       "      <td>Reg</td>\n",
       "      <td>Lvl</td>\n",
       "      <td>AllPub</td>\n",
       "      <td>...</td>\n",
       "      <td>0</td>\n",
       "      <td>NaN</td>\n",
       "      <td>NaN</td>\n",
       "      <td>NaN</td>\n",
       "      <td>0</td>\n",
       "      <td>5</td>\n",
       "      <td>2007</td>\n",
       "      <td>WD</td>\n",
       "      <td>Normal</td>\n",
       "      <td>181500</td>\n",
       "    </tr>\n",
       "  </tbody>\n",
       "</table>\n",
       "<p>2 rows × 81 columns</p>\n",
       "</div>"
      ],
      "text/plain": [
       "   Id  MSSubClass MSZoning  LotFrontage  LotArea Street Alley LotShape  \\\n",
       "0   1          60       RL         65.0     8450   Pave   NaN      Reg   \n",
       "1   2          20       RL         80.0     9600   Pave   NaN      Reg   \n",
       "\n",
       "  LandContour Utilities  ... PoolArea PoolQC Fence MiscFeature MiscVal MoSold  \\\n",
       "0         Lvl    AllPub  ...        0    NaN   NaN         NaN       0      2   \n",
       "1         Lvl    AllPub  ...        0    NaN   NaN         NaN       0      5   \n",
       "\n",
       "  YrSold  SaleType  SaleCondition  SalePrice  \n",
       "0   2008        WD         Normal     208500  \n",
       "1   2007        WD         Normal     181500  \n",
       "\n",
       "[2 rows x 81 columns]"
      ]
     },
     "execution_count": 2,
     "metadata": {},
     "output_type": "execute_result"
    }
   ],
   "source": [
    "df=pd.read_csv('train.csv')\n",
    "df.head(2)"
   ]
  },
  {
   "cell_type": "code",
   "execution_count": 3,
   "metadata": {},
   "outputs": [
    {
     "data": {
      "text/plain": [
       "Id                 int64\n",
       "MSSubClass         int64\n",
       "MSZoning          object\n",
       "LotFrontage      float64\n",
       "LotArea            int64\n",
       "                  ...   \n",
       "MoSold             int64\n",
       "YrSold             int64\n",
       "SaleType          object\n",
       "SaleCondition     object\n",
       "SalePrice          int64\n",
       "Length: 81, dtype: object"
      ]
     },
     "execution_count": 3,
     "metadata": {},
     "output_type": "execute_result"
    }
   ],
   "source": [
    "df.dtypes"
   ]
  },
  {
   "cell_type": "code",
   "execution_count": 4,
   "metadata": {},
   "outputs": [
    {
     "data": {
      "text/plain": [
       "Id                 0\n",
       "MSSubClass         0\n",
       "MSZoning           0\n",
       "LotFrontage      259\n",
       "LotArea            0\n",
       "                ... \n",
       "MoSold             0\n",
       "YrSold             0\n",
       "SaleType           0\n",
       "SaleCondition      0\n",
       "SalePrice          0\n",
       "Length: 81, dtype: int64"
      ]
     },
     "execution_count": 4,
     "metadata": {},
     "output_type": "execute_result"
    }
   ],
   "source": [
    "df.isnull().sum()"
   ]
  },
  {
   "cell_type": "markdown",
   "metadata": {},
   "source": [
    "#### Data Transformation"
   ]
  },
  {
   "cell_type": "code",
   "execution_count": 9,
   "metadata": {},
   "outputs": [],
   "source": [
    "#Input Independent Features\n",
    "X=df.drop('SalePrice',axis=1)"
   ]
  },
  {
   "cell_type": "code",
   "execution_count": 10,
   "metadata": {},
   "outputs": [],
   "source": [
    "#Output Independent Feature\n",
    "y=df['SalePrice']"
   ]
  },
  {
   "cell_type": "markdown",
   "metadata": {},
   "source": [
    "#### Split train and test data"
   ]
  },
  {
   "cell_type": "code",
   "execution_count": 13,
   "metadata": {},
   "outputs": [],
   "source": [
    "X_train,X_test,y_train,y_test=train_test_split(X,y,test_size=0.20,random_state=42)"
   ]
  },
  {
   "cell_type": "code",
   "execution_count": 16,
   "metadata": {},
   "outputs": [],
   "source": [
    "# Select numerical columns\n",
    "numerical_cols = df.select_dtypes(include=['int64', 'float64']).columns.tolist()\n",
    "\n",
    "# Select categorical columns\n",
    "categorical_cols = df.select_dtypes(include=['object']).columns.tolist()\n",
    "numerical_cols.remove('SalePrice')\n"
   ]
  },
  {
   "cell_type": "code",
   "execution_count": 17,
   "metadata": {},
   "outputs": [],
   "source": [
    "## Feature Engineering Automation\n",
    "\n",
    "#non-categorical Pipeline\n",
    "num_pipeline=Pipeline(\n",
    "    steps=[\n",
    "        ('imputer',SimpleImputer(strategy='median')), ##missing values\n",
    "        ('scaler',StandardScaler())## feature scaling \n",
    "    ]\n",
    "\n",
    ")\n",
    "\n",
    "#categorical Pipeline\n",
    "cat_pipeline=Pipeline(\n",
    "                steps=[\n",
    "                ('imputer',SimpleImputer(strategy='most_frequent')), ## handling Missing values\n",
    "                ('onehotencoder', OneHotEncoder(handle_unknown='ignore'))\n",
    "                ]\n",
    "\n",
    "            )  "
   ]
  },
  {
   "cell_type": "code",
   "execution_count": 18,
   "metadata": {},
   "outputs": [],
   "source": [
    "preprocessor=ColumnTransformer([\n",
    "    ('num_pipeline',num_pipeline,numerical_cols),\n",
    "    ('cat_pipeline',cat_pipeline,categorical_cols)\n",
    "\n",
    "])"
   ]
  },
  {
   "cell_type": "code",
   "execution_count": 19,
   "metadata": {},
   "outputs": [],
   "source": [
    "X_train=preprocessor.fit_transform(X_train)\n",
    "X_test=preprocessor.transform(X_test)"
   ]
  },
  {
   "cell_type": "code",
   "execution_count": 37,
   "metadata": {},
   "outputs": [],
   "source": [
    "# Define individual regression models\n",
    "random_forest_regressor = RandomForestRegressor()\n",
    "extra_trees_regressor = ExtraTreesRegressor()\n",
    "gradient_boosting_regressor = GradientBoostingRegressor()\n",
    "ada_boost_regressor = AdaBoostRegressor()\n",
    "decision_tree_regressor = DecisionTreeRegressor()\n",
    "svr = SVR()\n",
    "k_neighbors_regressor = KNeighborsRegressor()\n",
    "linear_regression = LinearRegression()\n",
    "ridge_regressor = Ridge()\n",
    "lasso_regressor = Lasso()\n",
    "elastic_net_regressor = ElasticNet()\n",
    "mlp_regressor = MLPRegressor()\n",
    "gaussian_process_regressor = GaussianProcessRegressor()\n",
    "xgb_regressor = XGBRegressor()\n",
    "lgbm_regressor = LGBMRegressor()\n",
    "catboost_regressor = CatBoostRegressor(verbose=False)\n",
    "\n",
    "# Dictionary of regression models\n",
    "models = {\n",
    "    'Random Forest Regressor': random_forest_regressor,\n",
    "    'Extra Trees Regressor': extra_trees_regressor,\n",
    "    'Gradient Boosting Regressor': gradient_boosting_regressor,\n",
    "    'AdaBoost Regressor': ada_boost_regressor,\n",
    "    'Decision Tree Regressor': decision_tree_regressor,\n",
    "    'SVR': svr,\n",
    "    'KNeighbors Regressor': k_neighbors_regressor,\n",
    "    'Linear Regression': linear_regression,\n",
    "    'Ridge Regressor': ridge_regressor,\n",
    "    'Lasso Regressor': lasso_regressor,\n",
    "    'ElasticNet Regressor': elastic_net_regressor,\n",
    "    'XGBoost Regressor': xgb_regressor,\n",
    "    'LGBM Regressor': lgbm_regressor,\n",
    "    'CatBoost Regressor': catboost_regressor\n",
    "}"
   ]
  },
  {
   "cell_type": "code",
   "execution_count": 38,
   "metadata": {},
   "outputs": [
    {
     "name": "stdout",
     "output_type": "stream",
     "text": [
      "Random Forest Regressor: Test R-squared Score = 0.89\n",
      "\n",
      "Extra Trees Regressor: Test R-squared Score = 0.90\n",
      "\n",
      "Gradient Boosting Regressor: Test R-squared Score = 0.90\n",
      "\n",
      "AdaBoost Regressor: Test R-squared Score = 0.84\n",
      "\n",
      "Decision Tree Regressor: Test R-squared Score = 0.76\n",
      "\n",
      "SVR: Test R-squared Score = -0.02\n",
      "\n",
      "KNeighbors Regressor: Test R-squared Score = 0.81\n",
      "\n",
      "Linear Regression: Test R-squared Score = 0.89\n",
      "\n",
      "Ridge Regressor: Test R-squared Score = 0.88\n",
      "\n"
     ]
    },
    {
     "name": "stderr",
     "output_type": "stream",
     "text": [
      "c:\\Users\\VAIBHAV\\PycharmProjects\\pythonProject\\venv\\Lib\\site-packages\\sklearn\\linear_model\\_coordinate_descent.py:589: ConvergenceWarning: Objective did not converge. You might want to increase the number of iterations. Duality gap: 971234587.8473511, tolerance: 696659484.3571944\n",
      "  model = cd_fast.sparse_enet_coordinate_descent(\n"
     ]
    },
    {
     "name": "stdout",
     "output_type": "stream",
     "text": [
      "Lasso Regressor: Test R-squared Score = 0.90\n",
      "\n",
      "ElasticNet Regressor: Test R-squared Score = 0.83\n",
      "\n",
      "XGBoost Regressor: Test R-squared Score = 0.88\n",
      "\n",
      "[LightGBM] [Warning] Auto-choosing col-wise multi-threading, the overhead of testing was 0.001294 seconds.\n",
      "You can set `force_col_wise=true` to remove the overhead.\n",
      "[LightGBM] [Info] Total Bins 3460\n",
      "[LightGBM] [Info] Number of data points in the train set: 1168, number of used features: 180\n",
      "[LightGBM] [Info] Start training from score 181441.541952\n",
      "LGBM Regressor: Test R-squared Score = 0.88\n",
      "\n",
      "CatBoost Regressor: Test R-squared Score = 0.90\n",
      "\n",
      "Best Model: CatBoost Regressor\n"
     ]
    }
   ],
   "source": [
    "def evaluate_model(X_train, y_train, X_test, y_test, models):\n",
    "    best_model_name = None\n",
    "    best_r2_score = -float('inf')  # Initialize with a very low value\n",
    "    \n",
    "    for name, model in models.items():\n",
    "        # Train the model on the entire training set\n",
    "        model.fit(X_train, y_train)\n",
    "        \n",
    "        # Evaluate the model on the test set using R-squared score\n",
    "        test_r2_score = model.score(X_test, y_test)\n",
    "        print(f'{name}: Test R-squared Score = {test_r2_score:.2f}\\n')\n",
    "        \n",
    "        # Update best model if necessary\n",
    "        if test_r2_score > best_r2_score:\n",
    "            best_r2_score = test_r2_score\n",
    "            best_model_name = name\n",
    "    \n",
    "    return best_model_name\n",
    "\n",
    "best_model = evaluate_model(X_train, y_train, X_test, y_test, models)\n",
    "print(f'Best Model: {best_model}')\n"
   ]
  },
  {
   "cell_type": "code",
   "execution_count": 316,
   "metadata": {},
   "outputs": [],
   "source": [
    "catboost_regressor = CatBoostRegressor(\n",
    "    learning_rate=0.07,\n",
    "    depth=5,\n",
    "    n_estimators=600,\n",
    "    subsample=0.7,\n",
    "    colsample_bylevel=0.7,\n",
    "    l2_leaf_reg=1.0,\n",
    "    random_seed=42,\n",
    "    bootstrap_type='Bernoulli',\n",
    "    min_data_in_leaf=10,\n",
    "    od_type='Iter',\n",
    "    od_wait=20,\n",
    "    loss_function='RMSE',\n",
    "    verbose=False\n",
    ")\n"
   ]
  },
  {
   "cell_type": "code",
   "execution_count": 317,
   "metadata": {},
   "outputs": [],
   "source": [
    "best_model=catboost_regressor"
   ]
  },
  {
   "cell_type": "code",
   "execution_count": 318,
   "metadata": {},
   "outputs": [
    {
     "data": {
      "text/plain": [
       "<catboost.core.CatBoostRegressor at 0x17654fca310>"
      ]
     },
     "execution_count": 318,
     "metadata": {},
     "output_type": "execute_result"
    }
   ],
   "source": [
    "# Train (fit) the model\n",
    "best_model.fit(X_train, y_train)\n"
   ]
  },
  {
   "cell_type": "code",
   "execution_count": 319,
   "metadata": {},
   "outputs": [],
   "source": [
    "# Now make predictions\n",
    "y_pred = best_model.predict(X_test)"
   ]
  },
  {
   "cell_type": "code",
   "execution_count": 320,
   "metadata": {},
   "outputs": [
    {
     "name": "stdout",
     "output_type": "stream",
     "text": [
      "Mean Absolute Error: 14873.57\n",
      "Mean Squared Error: 605565860.15\n",
      "R-squared: 0.92\n"
     ]
    }
   ],
   "source": [
    "# Mean Absolute Error (MAE)\n",
    "mae = mean_absolute_error(y_test, y_pred)\n",
    "print(f'Mean Absolute Error: {mae:.2f}')\n",
    "\n",
    "# Mean Squared Error (MSE)\n",
    "mse = mean_squared_error(y_test, y_pred)\n",
    "print(f'Mean Squared Error: {mse:.2f}')\n",
    "\n",
    "# R-squared (Coefficient of Determination)\n",
    "r2 = r2_score(y_test, y_pred)\n",
    "print(f'R-squared: {r2:.2f}')"
   ]
  },
  {
   "cell_type": "markdown",
   "metadata": {},
   "source": [
    "#### Test CSV "
   ]
  },
  {
   "cell_type": "code",
   "execution_count": 321,
   "metadata": {},
   "outputs": [],
   "source": [
    "test_data = pd.read_csv('test.csv')"
   ]
  },
  {
   "cell_type": "code",
   "execution_count": 322,
   "metadata": {},
   "outputs": [],
   "source": [
    "X_test_data = test_data"
   ]
  },
  {
   "cell_type": "code",
   "execution_count": 323,
   "metadata": {},
   "outputs": [],
   "source": [
    "X_test_data=preprocessor.transform(X_test_data)"
   ]
  },
  {
   "cell_type": "code",
   "execution_count": 324,
   "metadata": {},
   "outputs": [],
   "source": [
    "# Make predictions\n",
    "test_predictions = best_model.predict(X_test_data)"
   ]
  },
  {
   "cell_type": "code",
   "execution_count": 325,
   "metadata": {},
   "outputs": [],
   "source": [
    "# Create a new DataFrame or Series to hold the predicted values\n",
    "predictions_df = pd.DataFrame({'predictions': test_predictions})"
   ]
  },
  {
   "cell_type": "code",
   "execution_count": 326,
   "metadata": {},
   "outputs": [],
   "source": [
    "final_df=pd.DataFrame()\n",
    "final_df['Id'] = test_data['Id']\n",
    "final_df['SalePrice'] = predictions_df ['predictions']"
   ]
  },
  {
   "cell_type": "code",
   "execution_count": 327,
   "metadata": {},
   "outputs": [],
   "source": [
    "# Save the DataFrame with predictions to a CSV file\n",
    "final_df.to_csv('test_predictions7.csv', index=False)"
   ]
  }
 ],
 "metadata": {
  "kernelspec": {
   "display_name": "venv",
   "language": "python",
   "name": "python3"
  },
  "language_info": {
   "codemirror_mode": {
    "name": "ipython",
    "version": 3
   },
   "file_extension": ".py",
   "mimetype": "text/x-python",
   "name": "python",
   "nbconvert_exporter": "python",
   "pygments_lexer": "ipython3",
   "version": "3.11.3"
  },
  "orig_nbformat": 4
 },
 "nbformat": 4,
 "nbformat_minor": 2
}
